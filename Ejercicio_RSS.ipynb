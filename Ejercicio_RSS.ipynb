{
  "nbformat": 4,
  "nbformat_minor": 0,
  "metadata": {
    "colab": {
      "name": "Ejercicio RSS.ipynb",
      "provenance": [],
      "collapsed_sections": [],
      "authorship_tag": "ABX9TyOQaffL11SRRLi1Zb2a7jce",
      "include_colab_link": true
    },
    "kernelspec": {
      "name": "python3",
      "display_name": "Python 3"
    }
  },
  "cells": [
    {
      "cell_type": "markdown",
      "metadata": {
        "id": "view-in-github",
        "colab_type": "text"
      },
      "source": [
        "<a href=\"https://colab.research.google.com/github/ldidone/analisis_y_curacion_de_datos/blob/master/Ejercicio_RSS.ipynb\" target=\"_parent\"><img src=\"https://colab.research.google.com/assets/colab-badge.svg\" alt=\"Open In Colab\"/></a>"
      ]
    },
    {
      "cell_type": "markdown",
      "metadata": {
        "id": "qULw7do3S-3L",
        "colab_type": "text"
      },
      "source": [
        "# Ejercicio\n",
        "\n",
        "Descargar títulos de artículos de Tecnología de La Voz del Interior"
      ]
    },
    {
      "cell_type": "code",
      "metadata": {
        "id": "ZruOt4SOR_oS",
        "colab_type": "code",
        "colab": {
          "base_uri": "https://localhost:8080/",
          "height": 187
        },
        "outputId": "a4afc26b-f412-4262-942d-9d752f96d4e2"
      },
      "source": [
        "!pip install feedparser\n",
        "\n",
        "import feedparser"
      ],
      "execution_count": 1,
      "outputs": [
        {
          "output_type": "stream",
          "text": [
            "Collecting feedparser\n",
            "\u001b[?25l  Downloading https://files.pythonhosted.org/packages/91/d8/7d37fec71ff7c9dbcdd80d2b48bcdd86d6af502156fc93846fb0102cb2c4/feedparser-5.2.1.tar.bz2 (192kB)\n",
            "\u001b[K     |████████████████████████████████| 194kB 2.8MB/s \n",
            "\u001b[?25hBuilding wheels for collected packages: feedparser\n",
            "  Building wheel for feedparser (setup.py) ... \u001b[?25l\u001b[?25hdone\n",
            "  Created wheel for feedparser: filename=feedparser-5.2.1-cp36-none-any.whl size=44940 sha256=ed1498c7b217dfe2576b6890e4b2eb169b9ef73728976249121b01046f328dad\n",
            "  Stored in directory: /root/.cache/pip/wheels/8c/69/b7/f52763c41c5471df57703a0ef718a32a5e81ee35dcf6d4f97f\n",
            "Successfully built feedparser\n",
            "Installing collected packages: feedparser\n",
            "Successfully installed feedparser-5.2.1\n"
          ],
          "name": "stdout"
        }
      ]
    },
    {
      "cell_type": "code",
      "metadata": {
        "id": "EAMjld3RSQyv",
        "colab_type": "code",
        "colab": {}
      },
      "source": [
        "URL = 'https://www.lavoz.com.ar/rss/tecnologia.xml'\n",
        "feeds = feedparser.parse(URL)"
      ],
      "execution_count": 2,
      "outputs": []
    },
    {
      "cell_type": "code",
      "metadata": {
        "id": "v7maO_J5SbWS",
        "colab_type": "code",
        "colab": {
          "base_uri": "https://localhost:8080/",
          "height": 561
        },
        "outputId": "01c01f32-64f8-4c05-f3e5-008af126ef90"
      },
      "source": [
        "print('Títulos de artículos de Tecnología de La Voz del Interior')\n",
        "print()\n",
        "for index, feed in enumerate(feeds['entries']):\n",
        "    print('Título ' + str(index + 1) + ': ' + feed['title'])"
      ],
      "execution_count": 11,
      "outputs": [
        {
          "output_type": "stream",
          "text": [
            "Títulos de artículos de Tecnología de La Voz del Interior\n",
            "\n",
            "Título 1: Policía y reconocimiento facial: todo lo que está mal, en cinco puntos\n",
            "Título 2: ¿\"YouTok\"? YouTube prueba la grabación de videos de 15 segundos desde su app al estilo de TikTok\n",
            "Título 3: Facebook te avisará si el artículo que estás por compartir tiene más de 90 días\n",
            "Título 4: LG anuncia nuevos auriculares inalámbricos con un estuche que los limpia automáticamente y tecnología Meridian Audio\n",
            "Título 5: Inteligencia Artificial de IBM ya crea resúmenes de partidos de fútbol de forma autónoma\n",
            "Título 6: Telegram ya permite realizar videollamadas de forma experimental\n",
            "Título 7: Novedades de Google: cambian la voz de Maps y borran el historial de ubicaciones\n",
            "Título 8: Google pagará a los medios bajo un programa de licencias para un nuevo servicio de noticias\n",
            "Título 9: Revés para Facebook: el Banco Central de Brasil suspende los pagos por WhatsApp\n",
            "Título 10: Google introduce el 'fact check' en las búsquedas de imágenes\n",
            "Título 11: Google Maps prepara la integración con Uber para calcular las tarifas de las rutas\n",
            "Título 12: Microsoft anuncia el cierre de Mixer y su alianza con Facebook Gaming\n",
            "Título 13: Crean un delfín robótico de gran realismo para sustituir a los de verdad en los acuarios marinos\n",
            "Título 14: Crean Fugaku, el superordenador más potente del mundo\n",
            "Título 15: Chrome consumirá menos memoria en la nueva actualización de Windows 10\n",
            "Título 16: Crearon ropa inteligente para climas cálidos a base de grafeno\n",
            "Título 17: Por qué no podés resistirte a usar FaceApp\n",
            "Título 18: FaceApp: firma de ciberseguridad alerta por potenciales usos maliciosos del reconocimiento facial de la \"app\"\n",
            "Título 19: Twitter marca como \"manipulado\" un video compartido por Trump\n",
            "Título 20: Microsoft retoma las actualizaciones opcionales de Windows 10, paralizadas por la Covid-19\n",
            "Título 21: Twitter permitirá enviar tuits de voz de hasta 140 segundos en iOS\n",
            "Título 22: Como los de Black Mirror: Boston Dynamics pone a la venta su robot cuadrúpedo Spot por U$S 74.500\n",
            "Título 23: Hay un mensaje de LinkedIn que roba información confidencial y dinero\n",
            "Título 24: YouTube Music permitirá colaborar en listas de reproducción\n",
            "Título 25: Google lanzó Tangi: la nueva red social que mezcla videos cortos como TikTok y tutoriales al estilo Pinterest\n",
            "Título 26: Falta menos: WhatsApp te dejará usar la misma cuenta en cuatro dispositivos\n",
            "Título 27: En Brasil, ya se puede pagar a través de WhatsApp\n",
            "Título 28: Un desarrollador hace realidad el mítico videojuego de golf que aparece en los Simpson\n",
            "Título 29: La última actualización de Windows impide el funcionamiento de algunas impresoras\n",
            "Título 30: Descubren en Israel una técnica que usa las vibraciones en lámparas para espiar conversaciones a distancia\n"
          ],
          "name": "stdout"
        }
      ]
    }
  ]
}